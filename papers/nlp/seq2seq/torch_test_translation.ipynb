{
 "cells": [
  {
   "cell_type": "code",
   "execution_count": 1,
   "metadata": {},
   "outputs": [
    {
     "name": "stderr",
     "output_type": "stream",
     "text": [
      "/Users/jonirajalaa/Documents/fun/jonigrad/venv/lib/python3.10/site-packages/tqdm/auto.py:21: TqdmWarning: IProgress not found. Please update jupyter and ipywidgets. See https://ipywidgets.readthedocs.io/en/stable/user_install.html\n",
      "  from .autonotebook import tqdm as notebook_tqdm\n"
     ]
    }
   ],
   "source": [
    "special_tokens = ['<PAD>', '<SOS>', '<EOS>', '<UNK>']\n",
    "\n",
    "def build_vocab(data):\n",
    "    vocab = dict()\n",
    "    # Initialize vocabularies with special tokens\n",
    "    for token in special_tokens:\n",
    "        vocab[token] = len(vocab)\n",
    "\n",
    "    for sentence in data:\n",
    "        for word in sentence.split():\n",
    "            if word.lower() not in vocab: vocab[word.lower()] = len(vocab)\n",
    "    \n",
    "    return vocab\n",
    "\n",
    "def tokenize(vocab, data):\n",
    "    tok_data = []\n",
    "\n",
    "    for sentence in data:\n",
    "        sentence_tok = []\n",
    "        sentence_tok.append(vocab['<SOS>'])\n",
    "        for word in sentence.split():\n",
    "            if word.lower() in vocab:\n",
    "                sentence_tok.append(vocab[word.lower()])\n",
    "            else:\n",
    "                sentence_tok.append(vocab['<UNK>'])\n",
    "        sentence_tok.append(vocab['<EOS>'])\n",
    "        tok_data.append(sentence_tok)\n",
    "    \n",
    "    return tok_data\n",
    "\n",
    "def pad_sentences(data, pad_token):\n",
    "    max_len = max(len(sentence) for sentence in data)\n",
    "    padded_data = []\n",
    "    for sentence in data:\n",
    "        while len(sentence) < max_len:\n",
    "            sentence.append(pad_token)\n",
    "        padded_data.append(sentence)\n",
    "    return padded_data\n",
    "from datasets import load_dataset\n",
    "\n",
    "dataset = load_dataset(\"opus_books\", 'en-fi')\n",
    "\n",
    "import numpy as np\n",
    "def dataset_to_numpy(dataset):\n",
    "    finnish_sentences = []\n",
    "    english_sentences = []\n",
    "    \n",
    "    for example in dataset:\n",
    "        finnish_sentences.append(example['translation']['fi'])\n",
    "        english_sentences.append(example['translation']['en'])\n",
    "    \n",
    "    return finnish_sentences, english_sentences\n",
    "finnish_data, english_data = dataset_to_numpy(dataset['train'])"
   ]
  },
  {
   "cell_type": "code",
   "execution_count": 2,
   "metadata": {},
   "outputs": [],
   "source": [
    "en_vocab, fi_vocab = build_vocab(english_data), build_vocab(finnish_data)\n",
    "en_data_tok, fi_data_tok = tokenize(en_vocab, english_data), tokenize(fi_vocab, finnish_data)\n",
    "\n",
    "en_data_og = pad_sentences(en_data_tok, en_vocab['<PAD>'])\n",
    "fi_data_og = pad_sentences(fi_data_tok, fi_vocab['<PAD>'])"
   ]
  },
  {
   "cell_type": "code",
   "execution_count": 3,
   "metadata": {},
   "outputs": [],
   "source": [
    "en_data = np.array(en_data_og)\n",
    "fi_data = np.array(fi_data_og)\n"
   ]
  },
  {
   "cell_type": "code",
   "execution_count": 6,
   "metadata": {},
   "outputs": [
    {
     "name": "stdout",
     "output_type": "stream",
     "text": [
      "mps\n"
     ]
    },
    {
     "name": "stderr",
     "output_type": "stream",
     "text": [
      "Training: 100%|██████████| 114/114 [00:51<00:00,  2.21it/s]\n"
     ]
    },
    {
     "name": "stdout",
     "output_type": "stream",
     "text": [
      "Epoch: 01 | Train Loss: 8.375\n"
     ]
    },
    {
     "name": "stderr",
     "output_type": "stream",
     "text": [
      "Training: 100%|██████████| 114/114 [00:46<00:00,  2.44it/s]\n"
     ]
    },
    {
     "name": "stdout",
     "output_type": "stream",
     "text": [
      "Epoch: 02 | Train Loss: 7.776\n"
     ]
    },
    {
     "name": "stderr",
     "output_type": "stream",
     "text": [
      "Training: 100%|██████████| 114/114 [00:46<00:00,  2.44it/s]\n"
     ]
    },
    {
     "name": "stdout",
     "output_type": "stream",
     "text": [
      "Epoch: 03 | Train Loss: 7.663\n"
     ]
    },
    {
     "name": "stderr",
     "output_type": "stream",
     "text": [
      "Training: 100%|██████████| 114/114 [00:46<00:00,  2.43it/s]\n"
     ]
    },
    {
     "name": "stdout",
     "output_type": "stream",
     "text": [
      "Epoch: 04 | Train Loss: 7.578\n"
     ]
    },
    {
     "name": "stderr",
     "output_type": "stream",
     "text": [
      "Training: 100%|██████████| 114/114 [00:46<00:00,  2.43it/s]\n"
     ]
    },
    {
     "name": "stdout",
     "output_type": "stream",
     "text": [
      "Epoch: 05 | Train Loss: 7.501\n"
     ]
    },
    {
     "name": "stderr",
     "output_type": "stream",
     "text": [
      "Training: 100%|██████████| 114/114 [00:47<00:00,  2.41it/s]\n"
     ]
    },
    {
     "name": "stdout",
     "output_type": "stream",
     "text": [
      "Epoch: 06 | Train Loss: 7.445\n"
     ]
    },
    {
     "name": "stderr",
     "output_type": "stream",
     "text": [
      "Training: 100%|██████████| 114/114 [00:46<00:00,  2.43it/s]\n"
     ]
    },
    {
     "name": "stdout",
     "output_type": "stream",
     "text": [
      "Epoch: 07 | Train Loss: 7.376\n"
     ]
    },
    {
     "name": "stderr",
     "output_type": "stream",
     "text": [
      "Training: 100%|██████████| 114/114 [00:46<00:00,  2.43it/s]\n"
     ]
    },
    {
     "name": "stdout",
     "output_type": "stream",
     "text": [
      "Epoch: 08 | Train Loss: 7.314\n"
     ]
    },
    {
     "name": "stderr",
     "output_type": "stream",
     "text": [
      "Training: 100%|██████████| 114/114 [00:46<00:00,  2.43it/s]\n"
     ]
    },
    {
     "name": "stdout",
     "output_type": "stream",
     "text": [
      "Epoch: 09 | Train Loss: 7.251\n"
     ]
    },
    {
     "name": "stderr",
     "output_type": "stream",
     "text": [
      "Training: 100%|██████████| 114/114 [00:46<00:00,  2.43it/s]\n"
     ]
    },
    {
     "name": "stdout",
     "output_type": "stream",
     "text": [
      "Epoch: 10 | Train Loss: 7.192\n"
     ]
    },
    {
     "data": {
      "image/png": "[encoded data removed]",
      "text/plain": [
       "<Figure size 1000x500 with 1 Axes>"
      ]
     },
     "metadata": {},
     "output_type": "display_data"
    }
   ],
   "source": [
    "import torch\n",
    "import torch.nn as nn\n",
    "import torch.optim as optim\n",
    "from torch.utils.data import DataLoader, TensorDataset\n",
    "from datasets import load_dataset\n",
    "import numpy as np\n",
    "import random\n",
    "from tqdm import tqdm\n",
    "import matplotlib.pyplot as plt\n",
    "\n",
    "# Define special tokens\n",
    "special_tokens = ['<PAD>', '<SOS>', '<EOS>', '<UNK>']\n",
    "\n",
    "# Define functions to build vocabulary, tokenize, and pad sentences\n",
    "def build_vocab(data):\n",
    "    vocab = dict()\n",
    "    for token in special_tokens:\n",
    "        vocab[token] = len(vocab)\n",
    "    for sentence in data:\n",
    "        for word in sentence.split():\n",
    "            if word.lower() not in vocab:\n",
    "                vocab[word.lower()] = len(vocab)\n",
    "    return vocab\n",
    "\n",
    "def tokenize(vocab, data):\n",
    "    tok_data = []\n",
    "    for sentence in data:\n",
    "        sentence_tok = [vocab['<SOS>']]\n",
    "        for word in sentence.split():\n",
    "            if word.lower() in vocab:\n",
    "                sentence_tok.append(vocab[word.lower()])\n",
    "            else:\n",
    "                sentence_tok.append(vocab['<UNK>'])\n",
    "        sentence_tok.append(vocab['<EOS>'])\n",
    "        tok_data.append(sentence_tok)\n",
    "    return tok_data\n",
    "\n",
    "def pad_sentences(data, pad_token):\n",
    "    max_len = max(len(sentence) for sentence in data)\n",
    "    padded_data = []\n",
    "    for sentence in data:\n",
    "        while len(sentence) < max_len:\n",
    "            sentence.append(pad_token)\n",
    "        padded_data.append(sentence)\n",
    "    return padded_data\n",
    "\n",
    "# Load dataset\n",
    "dataset = load_dataset(\"opus_books\", 'en-fi')\n",
    "\n",
    "def dataset_to_numpy(dataset):\n",
    "    finnish_sentences = []\n",
    "    english_sentences = []\n",
    "    for example in dataset:\n",
    "        finnish_sentences.append(example['translation']['fi'])\n",
    "        english_sentences.append(example['translation']['en'])\n",
    "    return finnish_sentences, english_sentences\n",
    "\n",
    "# Preprocess data\n",
    "finnish_data, english_data = dataset_to_numpy(dataset['train'])\n",
    "en_vocab, fi_vocab = build_vocab(english_data), build_vocab(finnish_data)\n",
    "en_data_tok, fi_data_tok = tokenize(en_vocab, english_data), tokenize(fi_vocab, finnish_data)\n",
    "\n",
    "en_data_og = pad_sentences(en_data_tok, en_vocab['<PAD>'])\n",
    "fi_data_og = pad_sentences(fi_data_tok, fi_vocab['<PAD>'])\n",
    "en_data = np.array(en_data_og)\n",
    "fi_data = np.array(fi_data_og)\n",
    "\n",
    "# Convert data to tensors and create dataloaders\n",
    "en_tensor = torch.tensor(en_data, dtype=torch.long)\n",
    "fi_tensor = torch.tensor(fi_data, dtype=torch.long)\n",
    "\n",
    "train_dataset = TensorDataset(en_tensor, fi_tensor)\n",
    "train_loader = DataLoader(train_dataset, batch_size=32, shuffle=True)\n",
    "\n",
    "# Define Encoder and Decoder classes\n",
    "class Encoder(nn.Module):\n",
    "    def __init__(self, input_dim, emb_dim, hid_dim, n_layers, dropout):\n",
    "        super().__init__()\n",
    "        self.embedding = nn.Embedding(input_dim, emb_dim)\n",
    "        self.rnn = nn.LSTM(emb_dim, hid_dim, n_layers, dropout=dropout)\n",
    "        self.dropout = nn.Dropout(dropout)\n",
    "        \n",
    "    def forward(self, src):\n",
    "        embedded = self.dropout(self.embedding(src))\n",
    "        outputs, (hidden, cell) = self.rnn(embedded)\n",
    "        return hidden, cell\n",
    "\n",
    "class Decoder(nn.Module):\n",
    "    def __init__(self, output_dim, emb_dim, hid_dim, n_layers, dropout):\n",
    "        super().__init__()\n",
    "        self.embedding = nn.Embedding(output_dim, emb_dim)\n",
    "        self.rnn = nn.LSTM(emb_dim, hid_dim, n_layers, dropout=dropout)\n",
    "        self.fc_out = nn.Linear(hid_dim, output_dim)\n",
    "        self.dropout = nn.Dropout(dropout)\n",
    "        \n",
    "    def forward(self, input, hidden, cell):\n",
    "        input = input.unsqueeze(0)\n",
    "        embedded = self.dropout(self.embedding(input))\n",
    "        output, (hidden, cell) = self.rnn(embedded, (hidden, cell))\n",
    "        prediction = self.fc_out(output.squeeze(0))\n",
    "        return prediction, hidden, cell\n",
    "\n",
    "# Seq2Seq model combining Encoder and Decoder\n",
    "class Seq2Seq(nn.Module):\n",
    "    def __init__(self, encoder, decoder, device):\n",
    "        super().__init__()\n",
    "        self.encoder = encoder\n",
    "        self.decoder = decoder\n",
    "        self.device = device\n",
    "        \n",
    "    def forward(self, src, trg, teacher_forcing_ratio=0.5):\n",
    "        trg_len = trg.shape[0]\n",
    "        batch_size = trg.shape[1]\n",
    "        trg_vocab_size = self.decoder.fc_out.out_features\n",
    "        \n",
    "        outputs = torch.zeros(trg_len, batch_size, trg_vocab_size).to(self.device)\n",
    "        \n",
    "        hidden, cell = self.encoder(src)\n",
    "        \n",
    "        input = trg[0, :]\n",
    "        \n",
    "        for t in range(1, trg_len):\n",
    "            output, hidden, cell = self.decoder(input, hidden, cell)\n",
    "            outputs[t] = output\n",
    "            top1 = output.argmax(1)\n",
    "            input = trg[t] if random.random() < teacher_forcing_ratio else top1\n",
    "        \n",
    "        return outputs\n",
    "\n",
    "# Initialize model, loss function, and optimizer\n",
    "INPUT_DIM = len(en_vocab)\n",
    "OUTPUT_DIM = len(fi_vocab)\n",
    "ENC_EMB_DIM = 256\n",
    "DEC_EMB_DIM = 256\n",
    "HID_DIM = 256\n",
    "N_LAYERS = 2\n",
    "ENC_DROPOUT = 0.5\n",
    "DEC_DROPOUT = 0.5\n",
    "\n",
    "enc = Encoder(INPUT_DIM, ENC_EMB_DIM, HID_DIM, N_LAYERS, ENC_DROPOUT)\n",
    "dec = Decoder(OUTPUT_DIM, DEC_EMB_DIM, HID_DIM, N_LAYERS, DEC_DROPOUT)\n",
    "\n",
    "device = torch.device('mps' if torch.backends.mps.is_available() else 'cpu')\n",
    "# device = 'cpu'\n",
    "print(device)\n",
    "model = Seq2Seq(enc, dec, device).to(device)\n",
    "\n",
    "optimizer = optim.Adam(model.parameters())\n",
    "criterion = nn.CrossEntropyLoss(ignore_index=en_vocab['<PAD>'])\n",
    "\n",
    "# Training loop\n",
    "def train(model, iterator, optimizer, criterion, clip, device):\n",
    "    model.train()\n",
    "    epoch_loss = 0\n",
    "    \n",
    "    for i, batch in enumerate(tqdm(iterator, desc=\"Training\")):\n",
    "        src, trg = batch\n",
    "        src, trg = src.permute(1, 0).to(device), trg.permute(1, 0).to(device)\n",
    "        \n",
    "        optimizer.zero_grad()\n",
    "        output = model(src, trg)\n",
    "        \n",
    "        output_dim = output.shape[-1]\n",
    "        \n",
    "        output = output[1:].reshape(-1, output_dim)\n",
    "        trg = trg[1:].reshape(-1)\n",
    "        \n",
    "        loss = criterion(output, trg)\n",
    "        loss.backward()\n",
    "        \n",
    "        torch.nn.utils.clip_grad_norm_(model.parameters(), clip)\n",
    "        optimizer.step()\n",
    "        \n",
    "        epoch_loss += loss.item()\n",
    "        \n",
    "    return epoch_loss / len(iterator)\n",
    "\n",
    "# Training setup\n",
    "N_EPOCHS = 10\n",
    "CLIP = 1\n",
    "train_losses = []\n",
    "\n",
    "for epoch in range(N_EPOCHS):\n",
    "    train_loss = train(model, train_loader, optimizer, criterion, CLIP, device)\n",
    "    train_losses.append(train_loss)\n",
    "    print(f'Epoch: {epoch+1:02} | Train Loss: {train_loss:.3f}')\n",
    "\n",
    "# Plotting the training loss\n",
    "plt.figure(figsize=(10, 5))\n",
    "plt.plot(range(1, N_EPOCHS + 1), train_losses, marker='o', label='Train Loss')\n",
    "plt.xlabel('Epoch')\n",
    "plt.ylabel('Loss')\n",
    "plt.title('Training Loss Over Epochs')\n",
    "plt.legend()\n",
    "plt.grid()\n",
    "plt.show()\n"
   ]
  },
  {
   "cell_type": "code",
   "execution_count": null,
   "metadata": {},
   "outputs": [
    {
     "name": "stdout",
     "output_type": "stream",
     "text": [
      "Translation: pilkalla\n"
     ]
    }
   ],
   "source": [
    "def translate_sentence(sentence, src_vocab, trg_vocab, model, device, max_len=50):\n",
    "    model.eval()\n",
    "    tokens = [token.lower() for token in sentence.split()]\n",
    "    tokens = [src_vocab['<SOS>']] + [src_vocab.get(token, src_vocab['<UNK>']) for token in tokens] + [src_vocab['<EOS>']]\n",
    "    \n",
    "    src_tensor = torch.LongTensor(tokens).unsqueeze(1).to(device)\n",
    "    \n",
    "    with torch.no_grad():\n",
    "        hidden, cell = model.encoder(src_tensor)\n",
    "    \n",
    "    trg_indexes = [trg_vocab['<SOS>']]\n",
    "    \n",
    "    for i in range(max_len):\n",
    "        trg_tensor = torch.LongTensor([trg_indexes[-1]]).to(device)\n",
    "        \n",
    "        with torch.no_grad():\n",
    "            output, hidden, cell = model.decoder(trg_tensor, hidden, cell)\n",
    "        \n",
    "        pred_token = output.argmax(1).item()\n",
    "        trg_indexes.append(pred_token)\n",
    "        \n",
    "        if pred_token == trg_vocab['<EOS>']:\n",
    "            break\n",
    "    \n",
    "    trg_tokens = [list(trg_vocab.keys())[list(trg_vocab.values()).index(i)] for i in trg_indexes]\n",
    "    \n",
    "    return trg_tokens[1:-1]\n",
    "\n",
    "# Translate a test sentence\n",
    "test_sentence = \"I am a chicken\"\n",
    "translation = translate_sentence(test_sentence, en_vocab, fi_vocab, model, device)\n",
    "print(f'Translation: {\" \".join(translation)}')"
   ]
  },
  {
   "cell_type": "code",
   "execution_count": null,
   "metadata": {},
   "outputs": [],
   "source": []
  }
 ],
 "metadata": {
  "kernelspec": {
   "display_name": "venv",
   "language": "python",
   "name": "python3"
  },
  "language_info": {
   "codemirror_mode": {
    "name": "ipython",
    "version": 3
   },
   "file_extension": ".py",
   "mimetype": "text/x-python",
   "name": "python",
   "nbconvert_exporter": "python",
   "pygments_lexer": "ipython3",
   "version": "3.10.13"
  }
 },
 "nbformat": 4,
 "nbformat_minor": 2
}
