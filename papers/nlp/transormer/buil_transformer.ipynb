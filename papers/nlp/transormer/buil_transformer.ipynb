{
 "cells": [
  {
   "cell_type": "code",
   "execution_count": 1,
   "metadata": {},
   "outputs": [],
   "source": [
    "import numpy as np\n",
    "from jonigrad.layers import *"
   ]
  },
  {
   "cell_type": "code",
   "execution_count": 57,
   "metadata": {},
   "outputs": [],
   "source": [
    "class MultiHeadAttention(Module):\n",
    "    def __init__(self, d_model=512, num_heads=8):\n",
    "        super().__init__()\n",
    "        assert d_model % num_heads == 0\n",
    "        \n",
    "        self.d_model = d_model\n",
    "        self.num_heads = num_heads\n",
    "        self.depth = d_model // num_heads\n",
    "\n",
    "        self.wq = Linear(d_model, d_model)\n",
    "        self.wk = Linear(d_model, d_model)\n",
    "        self.wv = Linear(d_model, d_model)\n",
    "\n",
    "        self.attention = ScaledDPAttention(self.depth)\n",
    "\n",
    "        self.linear = Linear(d_model, d_model)\n",
    "        self.norm = LayerNorm((d_model,))\n",
    "\n",
    "    def split_heads(self, x, batch_size):\n",
    "        x = x.reshape(batch_size, -1, self.num_heads, self.depth)\n",
    "        return x.transpose(0, 2, 1, 3)  # (batch_size, num_heads, seq_len, depth)\n",
    "\n",
    "    def combine_heads(self, x, batch_size):        \n",
    "        x = x.transpose(0, 2, 1, 3).reshape(batch_size, -1, self.d_model)  # (batch_size, seq_len, d_model)\n",
    "        return x\n",
    "    \n",
    "    def forward(self, q, k, v, mask=None):\n",
    "        batch_size = q.shape[0]\n",
    "        \n",
    "        q = self.split_heads(self.wq(q), batch_size)\n",
    "        k = self.split_heads(self.wk(k), batch_size)\n",
    "        v = self.split_heads(self.wv(v), batch_size)\n",
    "\n",
    "        scaled_attention, _ = self.attention.forward(q, k, v, mask)\n",
    "        scaled_attention = self.combine_heads(scaled_attention, batch_size)\n",
    "        \n",
    "        output = self.linear(scaled_attention)\n",
    "        return self.norm(output + self.combine_heads(q, batch_size))  \n",
    "\n",
    "    def backward(self, dL_dy):\n",
    "        batch_size = dL_dy.shape[0]\n",
    "        \n",
    "        # Gradient of the norm layer\n",
    "        dL_dnorm = self.norm.backward(dL_dy)\n",
    "\n",
    "        # Gradient through the final linear layer\n",
    "        dL_dlinear = self.linear.backward(dL_dnorm)\n",
    "\n",
    "        # Reshape back to split heads format\n",
    "        dL_dlinear_heads = self.split_heads(dL_dlinear, batch_size)\n",
    "        \n",
    "        # Gradient through attention mechanism\n",
    "        dL_dattn_q, dL_dattn_k, dL_dattn_v = self.attention.backward(dL_dlinear_heads)\n",
    "        \n",
    "        # Gradient through the input projections\n",
    "        dL_dq = self.wq.backward(self.combine_heads(dL_dattn_q, batch_size))\n",
    "        dL_dk = self.wk.backward(self.combine_heads(dL_dattn_k, batch_size))\n",
    "        dL_dv = self.wv.backward(self.combine_heads(dL_dattn_v, batch_size))\n",
    "        \n",
    "        return dL_dq, dL_dk, dL_dv\n",
    "\n",
    "class ScaledDPAttention(Module):\n",
    "    def __init__(self, depth):\n",
    "        super().__init__()\n",
    "        self.scale = np.sqrt(depth)\n",
    "        self.softmax = Softmax()\n",
    "    \n",
    "    def forward(self, q, k, v, mask=None):\n",
    "        self.q, self.k, self.v = q, k, v\n",
    "        self.mask = mask\n",
    "\n",
    "        # self.scores = np.matmul(q, k.transpose(0, 1, 3, 2)) / self.scale\n",
    "        # if mask is not None:\n",
    "        #     self.mask = mask[:, :, :self.scores.shape[-2], :self.scores.shape[-1]]\n",
    "        #     self.scores = np.where(self.mask, self.scores, -1e9)\n",
    "        self.scores = np.matmul(q, k.transpose(0, 1, 3, 2)) / self.scale\n",
    "        if mask is not None:\n",
    "            self.scores += (mask * -1e9)\n",
    "            \n",
    "        self.attn = self.softmax(self.scores)\n",
    "        self.output = np.matmul(self.attn, v)\n",
    "        return self.output, self.attn\n",
    "    \n",
    "    def backward(self, dL_dy):\n",
    "        # Gradient of the output wrt. attention weights\n",
    "        dL_dattn = np.matmul(dL_dy, self.v.transpose(0, 1, 3, 2))\n",
    "        \n",
    "        # Gradient of the output wrt. v\n",
    "        dL_dv = np.matmul(self.attn.transpose(0, 1, 3, 2), dL_dy)\n",
    "        \n",
    "        # Backward pass through softmax\n",
    "        datt_scores = self.softmax.backward(dL_dattn)\n",
    "        \n",
    "        if self.mask is not None:\n",
    "            datt_scores = np.where(self.mask == 0, 0, datt_scores)\n",
    "\n",
    "        # Gradients of the scores wrt. q, k\n",
    "        dL_dq = np.matmul(datt_scores, self.k) / self.scale\n",
    "        dL_dk = np.matmul(datt_scores.transpose(0, 1, 3, 2), self.q) / self.scale\n",
    "\n",
    "        return dL_dq, dL_dk, dL_dv\n",
    "\n",
    "class LinearLayer(Module):\n",
    "    def __init__(self, d_model=512, seq_len=100):\n",
    "        super().__init__()\n",
    "        self.fc1 = Linear(d_model, d_model*2)\n",
    "        self.relu = ReLU()\n",
    "        self.fc2 = Linear(d_model*2, d_model)\n",
    "        self.norm = LayerNorm((d_model,))\n",
    "\n",
    "    def forward(self, x):\n",
    "        self.residual = x\n",
    "        x = self.fc1(x)\n",
    "        x = self.relu(x)\n",
    "        x = self.fc2(x)\n",
    "        self.out = self.norm(x + self.residual)\n",
    "        return self.out\n",
    "\n",
    "    def backward(self, dL_dy):\n",
    "        # Gradient of the normalization layer\n",
    "        dL_dnorm = self.norm.backward(dL_dy)\n",
    "\n",
    "        # Split the gradient at the addition operation\n",
    "        dL_dresidual = dL_dnorm  # Gradient through the residual connection\n",
    "        dL_dfc2_input = dL_dnorm  # Gradient through the output of fc2\n",
    "\n",
    "        # Gradient through the second linear layer\n",
    "        dL_dfc2 = self.fc2.backward(dL_dfc2_input)\n",
    "\n",
    "        # Gradient through the ReLU activation\n",
    "        dL_drelu = self.relu.backward(dL_dfc2)\n",
    "\n",
    "        # Gradient through the first linear layer\n",
    "        dL_dfc1 = self.fc1.backward(dL_drelu)\n",
    "\n",
    "        # Combine gradients from the residual and the main path\n",
    "        dL_dx = dL_dfc1 + dL_dresidual\n",
    "        \n",
    "        return dL_dx\n",
    "\n",
    "\n",
    "def create_look_ahead_mask(size):\n",
    "    mask = np.triu(np.ones((size, size)), k=1).astype(np.float32)  # Upper triangular matrix with a shift\n",
    "    return mask  # Add extra dimensions for batch size and number of heads\n",
    "\n",
    "def create_padding_mask(seq):\n",
    "    mask = (seq == 0).astype(np.float32)\n",
    "    return  mask[:, np.newaxis,:, np.newaxis]  # (batch_size, 1, 1, seq_len)\n",
    "\n",
    "def shift_right(x):\n",
    "    zero_col = np.zeros((x.shape[0], 1, x.shape[2]))  # Shape (batch_size, 1, d_model)\n",
    "    return np.concatenate([zero_col, x[:, :-1, :]], axis=1)\n",
    "\n",
    "\n",
    "\n",
    "\n",
    "class TransformerDecoder(Module):\n",
    "    def __init__(self, vocab_size=1000, d_model=512, num_heads=8, seq_len=10, num_layers=6):\n",
    "        super().__init__()\n",
    "        self.num_heads = num_heads\n",
    "        self.num_layers = num_layers\n",
    "        self.input_embedding = Embedding(vocab_size, d_model)\n",
    "        self.positional_embedding = Embedding(seq_len, d_model)\n",
    "        \n",
    "        self.masked_multi_head_attention_layers = [MultiHeadAttention(d_model, num_heads) for _ in range(num_layers)]\n",
    "        self.multi_head_attention_layers = [MultiHeadAttention(d_model, num_heads) for _ in range(num_layers)]\n",
    "        self.linear_layers = [LinearLayer(d_model, seq_len) for _ in range(num_layers)]\n",
    "        \n",
    "        self.final_linear = Linear(d_model, vocab_size)\n",
    "        \n",
    "    def forward(self, x, k, v):\n",
    "        batch_size, seq_len = x.shape\n",
    "        look_ahead_mask = create_look_ahead_mask(seq_len)\n",
    "        padding_mask = create_padding_mask(x)\n",
    "\n",
    "        pos = np.tile(np.arange(seq_len), (batch_size, 1))\n",
    "        \n",
    "        x = self.input_embedding(x)\n",
    "        x = shift_right(x)\n",
    "        x += self.positional_embedding(pos)\n",
    "        \n",
    "        for i in range(self.num_layers):\n",
    "            x = self.masked_multi_head_attention_layers[i].forward(x, x, x, look_ahead_mask[np.newaxis, np.newaxis, :, :])\n",
    "            x = self.multi_head_attention_layers[i].forward(x, k, v, padding_mask)\n",
    "            x = self.linear_layers[i].forward(x)\n",
    "        \n",
    "        logits = self.final_linear.forward(x)\n",
    "        return logits\n",
    "\n",
    "    def backward(self, dL_dy):\n",
    "        dL_dlinear = self.final_linear.backward(dL_dy)\n",
    "        \n",
    "        for i in range(self.num_layers - 1, -1, -1):\n",
    "            dL_dlinear_layer = self.linear_layers[i].backward(dL_dlinear)\n",
    "            dL_dmh_attention = dL_dlinear_layer\n",
    "            \n",
    "            dL_dmh_attention, dL_dk, dL_dv = self.multi_head_attention_layers[i].backward(dL_dmh_attention)\n",
    "            dL_dmh_self_attention, _, _ = self.masked_multi_head_attention_layers[i].backward(dL_dmh_attention)\n",
    "            \n",
    "            dL_dlinear = dL_dmh_self_attention\n",
    "        \n",
    "        return dL_dlinear, dL_dk, dL_dv\n",
    "\n",
    "class TransformerEncoder(Module):\n",
    "    def __init__(self, vocab_size=1000, d_model=512, num_heads=8, seq_len=10, num_layers=6):\n",
    "        super().__init__()\n",
    "        self.d_model = d_model\n",
    "        self.num_layers = num_layers\n",
    "        self.input_embedding = Embedding(vocab_size, d_model)\n",
    "        self.positional_embedding = Embedding(seq_len, d_model)\n",
    "        \n",
    "        self.multi_head_attention_layers = [MultiHeadAttention(d_model, num_heads) for _ in range(num_layers)]\n",
    "        self.linear_layers = [LinearLayer(d_model, seq_len) for _ in range(num_layers)]\n",
    "    \n",
    "    def forward(self, x):\n",
    "        batch_size, seq_len = x.shape\n",
    "        pos = np.tile(np.arange(seq_len), (batch_size, 1))\n",
    "        padding_mask = create_padding_mask(x)\n",
    "        x = self.input_embedding(x) * np.sqrt(self.d_model)  # Scale embedding\n",
    "        x += self.positional_embedding(pos)\n",
    "\n",
    "        for i in range(self.num_layers):\n",
    "            x = self.multi_head_attention_layers[i].forward(x, x, x, padding_mask)\n",
    "            x = self.linear_layers[i].forward(x)\n",
    "        \n",
    "        return x\n",
    "\n",
    "    def backward(self, dL_dy):\n",
    "        for i in range(self.num_layers - 1, -1, -1):\n",
    "            dL_dlinear = self.linear_layers[i].backward(dL_dy)\n",
    "            dL_dattn_q, dL_dattn_k, dL_dattn_v = self.multi_head_attention_layers[i].backward(dL_dlinear)\n",
    "            dL_dy = dL_dattn_q\n",
    "        \n",
    "        return dL_dy\n",
    "\n",
    "\n",
    "\n",
    "\n",
    "# class TransformerDecoder(Module):\n",
    "#     def __init__(self, vocab_size=1000, d_model=512, num_heads=8, seq_len=10, num_layers=6):\n",
    "#         super().__init__()\n",
    "#         self.num_heads = num_heads\n",
    "#         self.input_embedding = Embedding(vocab_size, d_model)\n",
    "#         self.positional_embedding = Embedding(seq_len, d_model)\n",
    "#         self.masked_multi_head_attention = MultiHeadAttention(d_model, num_heads)\n",
    "#         self.multi_head_attention = MultiHeadAttention(d_model, num_heads)\n",
    "#         self.linear_layer = LinearLayer(d_model, seq_len)\n",
    "#         self.final_linear = Linear(d_model, vocab_size)\n",
    "        \n",
    "#     def forward(self, x, k, v):\n",
    "#         batch_size, seq_len = x.shape\n",
    "        \n",
    "#         look_ahead_mask = create_look_ahead_mask(seq_len)\n",
    "#         padding_mask = create_padding_mask(x)\n",
    "\n",
    "#         pos = np.tile(np.arange(seq_len), (batch_size, 1))\n",
    "#         x = self.input_embedding(x)\n",
    "#         x = shift_right(x)\n",
    "#         x += self.positional_embedding(pos)\n",
    "        \n",
    "#         x = self.masked_multi_head_attention(x, x, x, look_ahead_mask[np.newaxis, np.newaxis, :, :])\n",
    "\n",
    "#         x = self.multi_head_attention(x, k, v, padding_mask)\n",
    "        \n",
    "#         x = self.linear_layer(x)\n",
    "        \n",
    "#         logits = self.final_linear(x)\n",
    "\n",
    "#         return logits\n",
    "\n",
    "#     def backward(self, dL_dy):\n",
    "#         # Backpropagate through the softmax and final linear layer\n",
    "#         # dL_dlogits = self.softmax.backward(dL_dy)\n",
    "#         dL_dlinear = self.final_linear.backward(dL_dy)\n",
    "        \n",
    "#         # Backpropagate through the linear layer\n",
    "#         dL_dlinear_layer = self.linear_layer.backward(dL_dlinear)\n",
    "        \n",
    "#         # Split the gradients for the multi-head attention\n",
    "#         dL_dmh_attention = dL_dlinear_layer\n",
    "        \n",
    "#         # Backpropagate through the multi-head attention with encoder output\n",
    "#         dL_dmh_attention, dL_dk, dL_dv = self.multi_head_attention.backward(dL_dmh_attention)\n",
    "\n",
    "#         dL_dmh_self_attention, _, _ = self.masked_multi_head_attention.backward(dL_dmh_attention)\n",
    "\n",
    "#         dL_dx = dL_dmh_self_attention\n",
    "        \n",
    "#         return dL_dx, dL_dk, dL_dv\n",
    "\n",
    "\n",
    "# class TransformerEncoder(Module):\n",
    "#     def __init__(self, vocab_size=1000, d_model=512, num_heads=8, seq_len=10, num_layers=6):\n",
    "#         super().__init__()\n",
    "#         self.d_model = d_model\n",
    "#         self.input_embedding = Embedding(vocab_size, d_model)\n",
    "#         self.positional_embedding = Embedding(seq_len, d_model)\n",
    "#         self.multi_head_attention = MultiHeadAttention(d_model, num_heads)\n",
    "#         self.linear_layer = LinearLayer(d_model, seq_len)\n",
    "    \n",
    "#     def forward(self, x):\n",
    "#         batch_size, seq_len = x.shape\n",
    "#         pos = np.tile(np.arange(seq_len), (batch_size, 1))\n",
    "#         padding_mask = create_padding_mask(x)\n",
    "#         x = self.input_embedding(x) * np.sqrt(self.d_model)  # Scale embedding\n",
    "#         x += self.positional_embedding(pos)\n",
    "\n",
    "#         x = self.multi_head_attention(x, x, x, padding_mask)\n",
    "#         x = self.linear_layer(x)\n",
    "#         return x\n",
    "\n",
    "#     def backward(self, dL_dy):\n",
    "#         # Backpropagate through the linear layer\n",
    "#         dL_dlinear = self.linear_layer.backward(dL_dy)\n",
    "        \n",
    "#         # Backpropagate through multi-head attention\n",
    "#         dL_dattn_q, dL_dattn_k, dL_dattn_v = self.multi_head_attention.backward(dL_dlinear)\n",
    "        \n",
    "#         dL_dx = dL_dattn_q\n",
    "#         return dL_dx"
   ]
  },
  {
   "cell_type": "code",
   "execution_count": 58,
   "metadata": {},
   "outputs": [
    {
     "name": "stdout",
     "output_type": "stream",
     "text": [
      "(2, 5)\n",
      "Transformer Encoder test passed!\n",
      "(2, 6) (2, 5, 4)\n",
      "Transformer Decoder test passed!\n"
     ]
    }
   ],
   "source": [
    "vocab_size1 = 12\n",
    "vocab_size2 = 13\n",
    "seq_len1 = 5\n",
    "seq_len2 = 6\n",
    "\n",
    "d_model = 4\n",
    "num_heads = 4\n",
    "batch_size = 2\n",
    "layers = 4\n",
    "\n",
    "softmax = Softmax()\n",
    "\n",
    "encoder = TransformerEncoder(vocab_size1, d_model, num_heads, seq_len1, layers)\n",
    "\n",
    "# Create a sample input (batch_size, seq_len)\n",
    "sample_input = np.random.randint(0, vocab_size1, (batch_size, seq_len1))\n",
    "sample_input = np.zeros((batch_size, seq_len1), dtype=np.int16)\n",
    "print(sample_input.shape)\n",
    "# Forward pass\n",
    "encoder_output = encoder(sample_input)\n",
    "\n",
    "# Check the encoder_output shape\n",
    "assert encoder_output.shape == (batch_size, seq_len1, d_model), f\"Output shape mismatch: expected {(batch_size, seq_len1, d_model)}, got {encoder_output.shape}\"\n",
    "\n",
    "print(\"Transformer Encoder test passed!\")\n",
    "\n",
    "# Initialize the decoder\n",
    "decoder = TransformerDecoder(vocab_size2, d_model, num_heads, seq_len2, layers)\n",
    "\n",
    "# Create a sample input for the decoder (batch_size, seq_len)\n",
    "sample_input = np.random.randint(0, vocab_size2, (batch_size, seq_len2))\n",
    "print(sample_input.shape, encoder_output.shape)\n",
    "# Forward pass through the decoder\n",
    "output = decoder(sample_input, encoder_output, encoder_output)\n",
    "\n",
    "softmax_output = softmax(output.squeeze())\n",
    "\n",
    "# Check the output shape\n",
    "assert output.shape == (batch_size, seq_len2, vocab_size2), f\"Output shape mismatch: expected {(batch_size, seq_len2, vocab_size2)}, got {output.shape}\"\n",
    "\n",
    "print(\"Transformer Decoder test passed!\")\n"
   ]
  },
  {
   "cell_type": "code",
   "execution_count": 33,
   "metadata": {},
   "outputs": [],
   "source": [
    "def translate_sentence(sentence, src_vocab, trg_vocab, encoder, decoder, max_len=25):\n",
    "    encoder.eval()\n",
    "    decoder.eval()\n",
    "\n",
    "    softmax = Softmax()\n",
    "    tokens = [token.lower() for token in sentence.split()]\n",
    "    tokens = (\n",
    "        [src_vocab[\"<SOS>\"]]\n",
    "        + [src_vocab.get(token, src_vocab[\"<UNK>\"]) for token in tokens]\n",
    "        + [src_vocab[\"<EOS>\"]]\n",
    "    )\n",
    "\n",
    "    src_tensor = np.array(tokens).reshape(1, -1)\n",
    "    encoder_output = encoder(src_tensor)\n",
    "\n",
    "    trg_indexes = [trg_vocab[\"<SOS>\"]]\n",
    "\n",
    "    for i in range(max_len):\n",
    "        trg_tensor = np.array([trg_indexes[-1]]).reshape(1,-1)\n",
    "        decoder_output = decoder(trg_tensor, encoder_output, encoder_output)\n",
    "        softmax_output = softmax(decoder_output.squeeze())\n",
    "        pred_token = softmax_output.argmax(0)\n",
    "        trg_indexes.append(pred_token)\n",
    "\n",
    "        if pred_token == trg_vocab[\"<EOS>\"]:\n",
    "            break\n",
    "\n",
    "    trg_tokens = [\n",
    "        list(trg_vocab.keys())[list(trg_vocab.values()).index(i)] for i in trg_indexes\n",
    "    ]\n",
    "\n",
    "    return trg_tokens[1:-1]"
   ]
  },
  {
   "cell_type": "code",
   "execution_count": 59,
   "metadata": {},
   "outputs": [
    {
     "name": "stdout",
     "output_type": "stream",
     "text": [
      "Finnish vocab 33808, English vocab 15524\n",
      "Finnish seq len 12, English seq len 12\n",
      "Sentences 3925\n",
      "encoder has 3977216 parameters\n",
      "decoder has 17346576 parameters\n",
      "Translation: varmaa varmaa varmaa varmaa varmaa varmaa varmaa varmaa varmaa varmaa varmaa varmaa varmaa varmaa varmaa varmaa varmaa varmaa varmaa varmaa varmaa varmaa varmaa varmaa\n"
     ]
    },
    {
     "name": "stderr",
     "output_type": "stream",
     "text": [
      "Training Progress:   0%|          | 1/1000 [00:01<32:07,  1.93s/it, train_loss=10.5]"
     ]
    },
    {
     "name": "stdout",
     "output_type": "stream",
     "text": [
      "Translation: varmaa varmaa varmaa varmaa varmaa varmaa varmaa varmaa varmaa varmaa varmaa varmaa varmaa varmaa varmaa varmaa varmaa varmaa varmaa varmaa varmaa varmaa varmaa varmaa\n"
     ]
    },
    {
     "name": "stderr",
     "output_type": "stream",
     "text": [
      "Training Progress:   1%|          | 11/1000 [00:11<15:43,  1.05it/s, train_loss=10.1]"
     ]
    },
    {
     "name": "stdout",
     "output_type": "stream",
     "text": [
      "Translation: <SOS> <SOS> <SOS> <SOS> <SOS> <SOS> <SOS> <SOS> <SOS> <SOS> <SOS> <SOS> <SOS> <SOS> <SOS> <SOS> <SOS> <SOS> <SOS> <SOS> <SOS> <SOS> <SOS> <SOS>\n"
     ]
    },
    {
     "name": "stderr",
     "output_type": "stream",
     "text": [
      "Training Progress:   2%|▏         | 21/1000 [00:20<16:16,  1.00it/s, train_loss=9.66]"
     ]
    },
    {
     "name": "stdout",
     "output_type": "stream",
     "text": [
      "Translation: \n"
     ]
    },
    {
     "name": "stderr",
     "output_type": "stream",
     "text": [
      "Training Progress:   3%|▎         | 31/1000 [00:30<14:43,  1.10it/s, train_loss=9.25]"
     ]
    },
    {
     "name": "stdout",
     "output_type": "stream",
     "text": [
      "Translation: \n"
     ]
    },
    {
     "name": "stderr",
     "output_type": "stream",
     "text": [
      "Training Progress:   4%|▍         | 41/1000 [00:40<18:10,  1.14s/it, train_loss=8.99]"
     ]
    },
    {
     "name": "stdout",
     "output_type": "stream",
     "text": [
      "Translation: \n"
     ]
    },
    {
     "name": "stderr",
     "output_type": "stream",
     "text": [
      "Training Progress:   5%|▌         | 51/1000 [00:51<17:44,  1.12s/it, train_loss=9.21]"
     ]
    },
    {
     "name": "stdout",
     "output_type": "stream",
     "text": [
      "Translation: \n"
     ]
    },
    {
     "name": "stderr",
     "output_type": "stream",
     "text": [
      "Training Progress:   6%|▌         | 61/1000 [01:03<20:27,  1.31s/it, train_loss=9.79]"
     ]
    },
    {
     "name": "stdout",
     "output_type": "stream",
     "text": [
      "Translation: \n"
     ]
    },
    {
     "name": "stderr",
     "output_type": "stream",
     "text": [
      "Training Progress:   7%|▋         | 71/1000 [01:14<16:54,  1.09s/it, train_loss=10.5]"
     ]
    },
    {
     "name": "stdout",
     "output_type": "stream",
     "text": [
      "Translation: \n"
     ]
    },
    {
     "name": "stderr",
     "output_type": "stream",
     "text": [
      "Training Progress:   8%|▊         | 81/1000 [01:24<16:07,  1.05s/it, train_loss=11.3]"
     ]
    },
    {
     "name": "stdout",
     "output_type": "stream",
     "text": [
      "Translation: <SOS> <SOS> <SOS> <SOS> <SOS> <SOS> <SOS> <SOS> <SOS> <SOS> <SOS> <SOS> <SOS> <SOS> <SOS> <SOS> <SOS> <SOS> <SOS> <SOS> <SOS> <SOS> <SOS> <SOS>\n"
     ]
    },
    {
     "name": "stderr",
     "output_type": "stream",
     "text": [
      "Training Progress:   9%|▉         | 91/1000 [01:34<15:40,  1.03s/it, train_loss=12]  "
     ]
    },
    {
     "name": "stdout",
     "output_type": "stream",
     "text": [
      "Translation: <SOS> <SOS> <SOS> <SOS> <SOS> <SOS> <SOS> <SOS> <SOS> <SOS> <SOS> <SOS> <SOS> <SOS> <SOS> <SOS> <SOS> <SOS> <SOS> <SOS> <SOS> <SOS> <SOS> <SOS>\n"
     ]
    },
    {
     "name": "stderr",
     "output_type": "stream",
     "text": [
      "Training Progress:  10%|█         | 101/1000 [01:45<18:05,  1.21s/it, train_loss=12.8]"
     ]
    },
    {
     "name": "stdout",
     "output_type": "stream",
     "text": [
      "Translation: <SOS> <SOS> <SOS> <SOS> <SOS> <SOS> <SOS> <SOS> <SOS> <SOS> <SOS> <SOS> <SOS> <SOS> <SOS> <SOS> <SOS> <SOS> <SOS> <SOS> <SOS> <SOS> <SOS> <SOS>\n"
     ]
    },
    {
     "name": "stderr",
     "output_type": "stream",
     "text": [
      "Training Progress:  11%|█         | 111/1000 [01:57<18:21,  1.24s/it, train_loss=13.4]"
     ]
    },
    {
     "name": "stdout",
     "output_type": "stream",
     "text": [
      "Translation: <SOS> <SOS> <SOS> <SOS> <SOS> <SOS> <SOS> <SOS> <SOS> <SOS> <SOS> <SOS> <SOS> <SOS> <SOS> <SOS> <SOS> <SOS> <SOS> <SOS> <SOS> <SOS> <SOS> <SOS>\n"
     ]
    },
    {
     "name": "stderr",
     "output_type": "stream",
     "text": [
      "Training Progress:  12%|█▏        | 121/1000 [02:08<15:57,  1.09s/it, train_loss=14.4]"
     ]
    },
    {
     "name": "stdout",
     "output_type": "stream",
     "text": [
      "Translation: <SOS> <SOS> <SOS> <SOS> <SOS> <SOS> <SOS> <SOS> <SOS> <SOS> <SOS> <SOS> <SOS> <SOS> <SOS> <SOS> <SOS> <SOS> <SOS> <SOS> <SOS> <SOS> <SOS> <SOS>\n"
     ]
    },
    {
     "name": "stderr",
     "output_type": "stream",
     "text": [
      "Training Progress:  13%|█▎        | 131/1000 [02:20<18:02,  1.25s/it, train_loss=15.2]"
     ]
    },
    {
     "name": "stdout",
     "output_type": "stream",
     "text": [
      "Translation: <SOS> <SOS> <SOS> <SOS> <SOS> <SOS> <SOS> <SOS> <SOS> <SOS> <SOS> <SOS> <SOS> <SOS> <SOS> <SOS> <SOS> <SOS> <SOS> <SOS> <SOS> <SOS> <SOS> <SOS>\n"
     ]
    },
    {
     "name": "stderr",
     "output_type": "stream",
     "text": [
      "Training Progress:  14%|█▍        | 141/1000 [02:32<16:12,  1.13s/it, train_loss=15.7]"
     ]
    },
    {
     "name": "stdout",
     "output_type": "stream",
     "text": [
      "Translation: <SOS> <SOS> <SOS> <SOS> <SOS> <SOS> <SOS> <SOS> <SOS> <SOS> <SOS> <SOS> <SOS> <SOS> <SOS> <SOS> <SOS> <SOS> <SOS> <SOS> <SOS> <SOS> <SOS> <SOS>\n"
     ]
    },
    {
     "name": "stderr",
     "output_type": "stream",
     "text": [
      "Training Progress:  15%|█▌        | 151/1000 [02:42<14:19,  1.01s/it, train_loss=16.5]"
     ]
    },
    {
     "name": "stdout",
     "output_type": "stream",
     "text": [
      "Translation: <SOS> <SOS> <SOS> <SOS> <SOS> <SOS> <SOS> <SOS> <SOS> <SOS> <SOS> <SOS> <SOS> <SOS> <SOS> <SOS> <SOS> <SOS> <SOS> <SOS> <SOS> <SOS> <SOS> <SOS>\n"
     ]
    },
    {
     "name": "stderr",
     "output_type": "stream",
     "text": [
      "Training Progress:  16%|█▌        | 160/1000 [02:51<16:44,  1.20s/it, train_loss=16.8]"
     ]
    }
   ],
   "source": [
    "from jonigrad.utils import load_fi_en_translations\n",
    "from tqdm import tqdm\n",
    "import matplotlib.pyplot as plt\n",
    "\n",
    "g = np.random.default_rng()  # create a random generator\n",
    "\n",
    "D_MODEL = 256\n",
    "NUM_HEADS = 4\n",
    "BATCH_SIZE = 32\n",
    "LAYERS = 4\n",
    "ITERS = 1000\n",
    "LR = 0.01\n",
    "THRESHOLD = 3\n",
    "\n",
    "en_data, en_vocab, fi_data, fi_vocab = load_fi_en_translations(debug=False)\n",
    "\n",
    "SEQ_LEN_INPUT = en_data.shape[1]\n",
    "SEQ_LEN_OUTPUT = fi_data.shape[1]\n",
    "INPUT_VOCAB = len(en_vocab)\n",
    "OUTPUT_VOCAB = len(fi_vocab)\n",
    "\n",
    "encoder = TransformerEncoder(INPUT_VOCAB, D_MODEL, NUM_HEADS, SEQ_LEN_INPUT, LAYERS)\n",
    "decoder = TransformerDecoder(OUTPUT_VOCAB, D_MODEL, NUM_HEADS, SEQ_LEN_OUTPUT, LAYERS)\n",
    "\n",
    "\n",
    "print(f\"encoder has {encoder.parameter_count()} parameters\")\n",
    "print(f\"decoder has {decoder.parameter_count()} parameters\")\n",
    "\n",
    "loss_f = CrossEntropyLoss(ignore_index=0)\n",
    "losses = []\n",
    "\n",
    "\n",
    "sentence = \"how are you today i am good?\"\n",
    "translation = translate_sentence(sentence, en_vocab, fi_vocab, encoder, decoder)\n",
    "print(\"Translation:\", \" \".join(translation))\n",
    "\n",
    "pbar = tqdm(range(ITERS), desc=\"Training Progress\")\n",
    "for i in pbar:\n",
    "    ix = g.integers(low=0, high=en_data.shape[0], size=BATCH_SIZE)\n",
    "    Xb, Yb = en_data[ix], fi_data[ix]\n",
    "\n",
    "    encoder.zero_grad()\n",
    "    decoder.zero_grad()\n",
    "    encoder_output = encoder(Xb)\n",
    "    decoder_output = decoder(Yb, encoder_output, encoder_output)\n",
    "    one_hot_targs = np.eye(OUTPUT_VOCAB)[Yb].astype(np.int8)\n",
    "    loss = loss_f(decoder_output, one_hot_targs)\n",
    "\n",
    "    dL_dy = loss_f.backward()\n",
    "\n",
    "    dL_dx, dL_dk, dL_dv = decoder.backward(dL_dy)\n",
    "    dL_dx = encoder.backward(dL_dk)\n",
    "\n",
    "    decoder.clip_grad(THRESHOLD, BATCH_SIZE)\n",
    "    encoder.clip_grad(THRESHOLD, BATCH_SIZE)\n",
    "\n",
    "    encoder.step(LR)\n",
    "    decoder.step(LR)\n",
    "    \n",
    "    losses.append(loss.item())\n",
    "    pbar.set_postfix({\"train_loss\": loss.item()})\n",
    "\n",
    "    if i % 10 == 0:\n",
    "        sentence = \"how are you today i am good?\"\n",
    "        translation = translate_sentence(sentence, en_vocab, fi_vocab, encoder, decoder)\n",
    "        print(\"Translation:\", \" \".join(translation))\n",
    "        encoder.train()\n",
    "        decoder.train()"
   ]
  },
  {
   "cell_type": "code",
   "execution_count": 36,
   "metadata": {},
   "outputs": [
    {
     "data": {
      "image/png": "[encoded data removed]",
      "text/plain": [
       "<Figure size 640x480 with 1 Axes>"
      ]
     },
     "metadata": {},
     "output_type": "display_data"
    }
   ],
   "source": [
    "plt.plot(losses)\n",
    "plt.xlabel('Iteration')\n",
    "plt.ylabel('Loss')\n",
    "plt.title('Training Loss Over Time')\n",
    "plt.show()"
   ]
  },
  {
   "cell_type": "code",
   "execution_count": 21,
   "metadata": {},
   "outputs": [
    {
     "name": "stdout",
     "output_type": "stream",
     "text": [
      "Translation: \n"
     ]
    }
   ],
   "source": [
    "\n",
    "\n",
    "# Example usage of translate_sentence\n",
    "sentence = \"how are you today i am good?\"\n",
    "# sentence = \" \".join([list(en_vocab.keys())[list(en_vocab.values()).index(i)] for i in en_data[4]][1:-1])\n",
    "translation = translate_sentence(sentence, en_vocab, fi_vocab, encoder, decoder)\n",
    "print(\"Translation:\", \" \".join(translation))"
   ]
  }
 ],
 "metadata": {
  "kernelspec": {
   "display_name": "venv",
   "language": "python",
   "name": "python3"
  },
  "language_info": {
   "codemirror_mode": {
    "name": "ipython",
    "version": 3
   },
   "file_extension": ".py",
   "mimetype": "text/x-python",
   "name": "python",
   "nbconvert_exporter": "python",
   "pygments_lexer": "ipython3",
   "version": "3.10.13"
  }
 },
 "nbformat": 4,
 "nbformat_minor": 2
}
