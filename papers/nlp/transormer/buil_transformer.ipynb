{
 "cells": [
  {
   "cell_type": "code",
   "execution_count": 1,
   "metadata": {},
   "outputs": [],
   "source": [
    "import numpy as np\n",
    "from jonigrad.layers import *"
   ]
  },
  {
   "cell_type": "code",
   "execution_count": 55,
   "metadata": {},
   "outputs": [],
   "source": [
    "class MultiHeadAttention(Module):\n",
    "    def __init__(self, d_model=512, num_heads=8):\n",
    "        super().__init__()\n",
    "        assert d_model % num_heads == 0\n",
    "        \n",
    "        self.d_model = d_model\n",
    "        self.num_heads = num_heads\n",
    "        self.depth = d_model // num_heads\n",
    "\n",
    "        self.wq = Linear(d_model, d_model)\n",
    "        self.wk = Linear(d_model, d_model)\n",
    "        self.wv = Linear(d_model, d_model)\n",
    "\n",
    "        self.attention = ScaledDPAttention(self.depth)\n",
    "\n",
    "        self.linear = Linear(d_model, d_model)\n",
    "        self.norm = LayerNorm(d_model)\n",
    "\n",
    "    def split_heads(self, x, batch_size):        \n",
    "        x = x.reshape(batch_size, -1, self.num_heads, self.depth)\n",
    "        return x.transpose(0, 2, 1, 3)  # (batch_size, num_heads, seq_len, depth)\n",
    "    \n",
    "    def forward(self, q, k, v, mask=None):\n",
    "        batch_size = q.shape[0]\n",
    "        \n",
    "        q = self.split_heads(self.wq(q), batch_size)\n",
    "        k = self.split_heads(self.wk(k), batch_size)\n",
    "        v = self.split_heads(self.wv(v), batch_size)\n",
    "        \n",
    "        scaled_attention, _ = self.attention(q, k, v, mask)\n",
    "        scaled_attention = scaled_attention.transpose(0, 2, 1, 3).reshape(batch_size, -1, self.d_model)  # (batch_size, seq_len, d_model)\n",
    "        \n",
    "        output = self.linear(scaled_attention)\n",
    "        \n",
    "        return self.norm(output + q.transpose(0, 2, 1, 3).reshape(output.shape))  \n",
    "\n",
    "class ScaledDPAttention(Module):\n",
    "    def __init__(self, depth):\n",
    "        super().__init__()\n",
    "        self.scale = np.sqrt(depth)\n",
    "        self.softmax = Softmax()\n",
    "    \n",
    "    def forward(self, q, k, v, mask=None):\n",
    "        scores = np.matmul(q, k.transpose(0, 1, 3, 2)) / self.scale\n",
    "        \n",
    "        if mask is not None:\n",
    "\n",
    "            mask = mask[:, :, :scores.shape[-2], :scores.shape[-1]]\n",
    "            scores = np.where(mask, scores, -1e9)\n",
    "        \n",
    "        attn = self.softmax(scores)\n",
    "        output = np.matmul(attn, v)\n",
    "        return output, attn\n",
    "\n",
    "class LinearLayer(Module):\n",
    "    def __init__(self, d_model=512):\n",
    "        super().__init__()\n",
    "        self.fc1 = Linear(d_model, d_model)\n",
    "        self.relu = ReLU()\n",
    "        self.fc2 = Linear(d_model, d_model)\n",
    "        self.norm = LayerNorm(d_model)\n",
    "\n",
    "    def forward(self, x):\n",
    "        residual = x\n",
    "        x = self.relu(self.fc1(x))\n",
    "        x = self.fc2(x)\n",
    "        return self.norm(x + residual)\n",
    "\n",
    "\n",
    "def create_look_ahead_mask(size):\n",
    "    mask = np.tril(np.ones((size, size), dtype=bool))\n",
    "    return mask  # Shape (seq_len, seq_len)\n",
    "\n",
    "def create_padding_mask(seq):\n",
    "    mask = (seq == 0)\n",
    "    return mask[np.newaxis, np.newaxis, :, :]\n",
    "\n",
    "\n",
    "class TransformerDecoder(Module):\n",
    "    def __init__(self, input_vocab_size=1000, output_vocab_size=1000, d_model=512, num_heads=8, seq_len=10):\n",
    "        super().__init__()\n",
    "        self.num_heads = num_heads\n",
    "        self.input_embedding = Embedding(input_vocab_size, d_model)\n",
    "        self.positional_embedding = Embedding(seq_len, d_model)\n",
    "        self.masked_multi_head_attention = MultiHeadAttention(d_model, num_heads)\n",
    "        self.multi_head_attention = MultiHeadAttention(d_model, num_heads)\n",
    "        self.linear_layer = LinearLayer(d_model)\n",
    "        self.final_linear = Linear(d_model, output_vocab_size)  # Final linear layer to project to vocab size\n",
    "        self.softmax = Softmax()\n",
    "        \n",
    "    def forward(self, x, k, v):\n",
    "        batch_size, seq_len = x.shape\n",
    "        look_ahead_mask = create_look_ahead_mask(seq_len)\n",
    "        padding_mask = create_padding_mask(x)\n",
    "\n",
    "        pos = np.tile(np.arange(seq_len), (batch_size, 1))\n",
    "        x = self.input_embedding(x) + self.positional_embedding(pos)        \n",
    "        x = x.transpose(1, 0, 2)  # (batch_size, seq_len, d_model) -> (seq_len, batch_size, d_model)\n",
    "        \n",
    "        # Masked multi-head self-attention\n",
    "        x = self.masked_multi_head_attention(x, x, x, look_ahead_mask[np.newaxis, np.newaxis, :, :])\n",
    "        \n",
    "        # Multi-head attention with encoder output\n",
    "        x = self.multi_head_attention(x, k.transpose(1, 0, 2), v.transpose(1, 0, 2), padding_mask)\n",
    "        \n",
    "        x = x.transpose(1, 0, 2)  # (seq_len, batch_size, d_model) -> (batch_size, seq_len, d_model)\n",
    "        \n",
    "        x = self.linear_layer(x)\n",
    "        \n",
    "        logits = self.final_linear(x)  # Project to vocab size\n",
    "        \n",
    "        return self.softmax(logits, -1)\n",
    "\n",
    "class TransformerEncoder(Module):\n",
    "    def __init__(self, vocab_size=1000, d_model=512, num_heads=8, seq_len=10):\n",
    "        super().__init__()\n",
    "        self.input_embedding = Embedding(vocab_size, d_model)\n",
    "        self.positional_embedding = Embedding(seq_len, d_model)\n",
    "        self.multi_head_attention = MultiHeadAttention(d_model, num_heads)\n",
    "        self.linear_layer = LinearLayer(d_model)\n",
    "    \n",
    "    def forward(self, x):\n",
    "        batch_size, seq_len = x.shape\n",
    "        pos = np.tile(np.arange(seq_len), (batch_size, 1))\n",
    "        x = self.input_embedding(x) + self.positional_embedding(pos)\n",
    "\n",
    "        x = x.transpose(1, 0, 2)  # (batch_size, seq_len, d_model) -> (seq_len, batch_size, d_model)\n",
    "        x = self.multi_head_attention(x, x, x)\n",
    "        x = x.transpose(1, 0, 2)  # (seq_len, batch_size, d_model) -> (batch_size, seq_len, d_model)\n",
    "        x = self.linear_layer(x)\n",
    "        return x\n"
   ]
  },
  {
   "cell_type": "code",
   "execution_count": 60,
   "metadata": {},
   "outputs": [
    {
     "name": "stdout",
     "output_type": "stream",
     "text": [
      "(4, 127)\n",
      "Transformer Encoder test passed!\n",
      "(4, 57) (4, 127, 512)\n"
     ]
    },
    {
     "ename": "IndexError",
     "evalue": "index 11401 is out of bounds for axis 0 with size 8919",
     "output_type": "error",
     "traceback": [
      "\u001b[0;31m---------------------------------------------------------------------------\u001b[0m",
      "\u001b[0;31mIndexError\u001b[0m                                Traceback (most recent call last)",
      "Cell \u001b[0;32mIn[60], line 30\u001b[0m\n\u001b[1;32m     28\u001b[0m \u001b[38;5;28mprint\u001b[39m(sample_input\u001b[38;5;241m.\u001b[39mshape, encoder_output\u001b[38;5;241m.\u001b[39mshape)\n\u001b[1;32m     29\u001b[0m \u001b[38;5;66;03m# Forward pass through the decoder\u001b[39;00m\n\u001b[0;32m---> 30\u001b[0m output \u001b[38;5;241m=\u001b[39m \u001b[43mdecoder\u001b[49m\u001b[43m(\u001b[49m\u001b[43msample_input\u001b[49m\u001b[43m,\u001b[49m\u001b[43m \u001b[49m\u001b[43mencoder_output\u001b[49m\u001b[43m,\u001b[49m\u001b[43m \u001b[49m\u001b[43mencoder_output\u001b[49m\u001b[43m)\u001b[49m\n\u001b[1;32m     32\u001b[0m \u001b[38;5;66;03m# Check the output shape\u001b[39;00m\n\u001b[1;32m     33\u001b[0m \u001b[38;5;28;01massert\u001b[39;00m output\u001b[38;5;241m.\u001b[39mshape \u001b[38;5;241m==\u001b[39m (batch_size, seq_len2, vocab_size2), \u001b[38;5;124mf\u001b[39m\u001b[38;5;124m\"\u001b[39m\u001b[38;5;124mOutput shape mismatch: expected \u001b[39m\u001b[38;5;132;01m{\u001b[39;00m(batch_size,\u001b[38;5;250m \u001b[39mseq_len2,\u001b[38;5;250m \u001b[39mvocab_size2)\u001b[38;5;132;01m}\u001b[39;00m\u001b[38;5;124m, got \u001b[39m\u001b[38;5;132;01m{\u001b[39;00moutput\u001b[38;5;241m.\u001b[39mshape\u001b[38;5;132;01m}\u001b[39;00m\u001b[38;5;124m\"\u001b[39m\n",
      "File \u001b[0;32m~/Documents/fun/jonigrad/jonigrad/layers.py:10\u001b[0m, in \u001b[0;36mModule.__call__\u001b[0;34m(self, *inputs)\u001b[0m\n\u001b[1;32m      9\u001b[0m \u001b[38;5;28;01mdef\u001b[39;00m \u001b[38;5;21m__call__\u001b[39m(\u001b[38;5;28mself\u001b[39m, \u001b[38;5;241m*\u001b[39minputs):\n\u001b[0;32m---> 10\u001b[0m     \u001b[38;5;28;01mreturn\u001b[39;00m \u001b[38;5;28;43mself\u001b[39;49m\u001b[38;5;241;43m.\u001b[39;49m\u001b[43mforward\u001b[49m\u001b[43m(\u001b[49m\u001b[38;5;241;43m*\u001b[39;49m\u001b[43minputs\u001b[49m\u001b[43m)\u001b[49m\n",
      "Cell \u001b[0;32mIn[55], line 97\u001b[0m, in \u001b[0;36mTransformerDecoder.forward\u001b[0;34m(self, x, k, v)\u001b[0m\n\u001b[1;32m     94\u001b[0m padding_mask \u001b[38;5;241m=\u001b[39m create_padding_mask(x)\n\u001b[1;32m     96\u001b[0m pos \u001b[38;5;241m=\u001b[39m np\u001b[38;5;241m.\u001b[39mtile(np\u001b[38;5;241m.\u001b[39marange(seq_len), (batch_size, \u001b[38;5;241m1\u001b[39m))\n\u001b[0;32m---> 97\u001b[0m x \u001b[38;5;241m=\u001b[39m \u001b[38;5;28;43mself\u001b[39;49m\u001b[38;5;241;43m.\u001b[39;49m\u001b[43minput_embedding\u001b[49m\u001b[43m(\u001b[49m\u001b[43mx\u001b[49m\u001b[43m)\u001b[49m \u001b[38;5;241m+\u001b[39m \u001b[38;5;28mself\u001b[39m\u001b[38;5;241m.\u001b[39mpositional_embedding(pos)        \n\u001b[1;32m     98\u001b[0m x \u001b[38;5;241m=\u001b[39m x\u001b[38;5;241m.\u001b[39mtranspose(\u001b[38;5;241m1\u001b[39m, \u001b[38;5;241m0\u001b[39m, \u001b[38;5;241m2\u001b[39m)  \u001b[38;5;66;03m# (batch_size, seq_len, d_model) -> (seq_len, batch_size, d_model)\u001b[39;00m\n\u001b[1;32m    100\u001b[0m \u001b[38;5;66;03m# Masked multi-head self-attention\u001b[39;00m\n",
      "File \u001b[0;32m~/Documents/fun/jonigrad/jonigrad/layers.py:61\u001b[0m, in \u001b[0;36mLayer.__call__\u001b[0;34m(self, *inputs)\u001b[0m\n\u001b[1;32m     60\u001b[0m \u001b[38;5;28;01mdef\u001b[39;00m \u001b[38;5;21m__call__\u001b[39m(\u001b[38;5;28mself\u001b[39m, \u001b[38;5;241m*\u001b[39minputs):\n\u001b[0;32m---> 61\u001b[0m     \u001b[38;5;28;01mreturn\u001b[39;00m \u001b[38;5;28;43mself\u001b[39;49m\u001b[38;5;241;43m.\u001b[39;49m\u001b[43mforward\u001b[49m\u001b[43m(\u001b[49m\u001b[38;5;241;43m*\u001b[39;49m\u001b[43minputs\u001b[49m\u001b[43m)\u001b[49m\n",
      "File \u001b[0;32m~/Documents/fun/jonigrad/jonigrad/layers.py:1041\u001b[0m, in \u001b[0;36mEmbedding.forward\u001b[0;34m(self, indices)\u001b[0m\n\u001b[1;32m   1039\u001b[0m \u001b[38;5;28;01mdef\u001b[39;00m \u001b[38;5;21mforward\u001b[39m(\u001b[38;5;28mself\u001b[39m, indices):\n\u001b[1;32m   1040\u001b[0m     \u001b[38;5;28mself\u001b[39m\u001b[38;5;241m.\u001b[39mlast_indices \u001b[38;5;241m=\u001b[39m indices\n\u001b[0;32m-> 1041\u001b[0m     \u001b[38;5;28;01mreturn\u001b[39;00m \u001b[38;5;28;43mself\u001b[39;49m\u001b[38;5;241;43m.\u001b[39;49m\u001b[43m_params\u001b[49m\u001b[43m[\u001b[49m\u001b[38;5;124;43m\"\u001b[39;49m\u001b[38;5;124;43mE\u001b[39;49m\u001b[38;5;124;43m\"\u001b[39;49m\u001b[43m]\u001b[49m\u001b[38;5;241;43m.\u001b[39;49m\u001b[43mdata\u001b[49m\u001b[43m[\u001b[49m\u001b[43mindices\u001b[49m\u001b[43m]\u001b[49m\n",
      "\u001b[0;31mIndexError\u001b[0m: index 11401 is out of bounds for axis 0 with size 8919"
     ]
    }
   ],
   "source": [
    "vocab_size1 = 8919\n",
    "vocab_size2 = 15243\n",
    "seq_len1 = 127\n",
    "seq_len2 = 57\n",
    "\n",
    "d_model = 512\n",
    "num_heads = 8\n",
    "batch_size = 4\n",
    "\n",
    "encoder = TransformerEncoder(vocab_size1, d_model, num_heads, seq_len1)\n",
    "\n",
    "# Create a sample input (batch_size, seq_len)\n",
    "sample_input = np.random.randint(0, vocab_size1, (batch_size, seq_len1))\n",
    "print(sample_input.shape)\n",
    "# Forward pass\n",
    "encoder_output = encoder(sample_input)\n",
    "\n",
    "# Check the encoder_output shape\n",
    "assert encoder_output.shape == (batch_size, seq_len1, d_model), f\"Output shape mismatch: expected {(batch_size, seq_len1, d_model)}, got {encoder_output.shape}\"\n",
    "\n",
    "print(\"Transformer Encoder test passed!\")\n",
    "\n",
    "# Initialize the decoder\n",
    "decoder = TransformerDecoder(vocab_size1, vocab_size2, d_model, num_heads, seq_len1)\n",
    "\n",
    "# Create a sample input for the decoder (batch_size, seq_len)\n",
    "sample_input = np.random.randint(0, vocab_size2, (batch_size, seq_len2))\n",
    "print(sample_input.shape, encoder_output.shape)\n",
    "# Forward pass through the decoder\n",
    "output = decoder(sample_input, encoder_output, encoder_output)\n",
    "\n",
    "# Check the output shape\n",
    "assert output.shape == (batch_size, seq_len2, vocab_size2), f\"Output shape mismatch: expected {(batch_size, seq_len2, vocab_size2)}, got {output.shape}\"\n",
    "\n",
    "print(\"Transformer Decoder test passed!\")\n"
   ]
  },
  {
   "cell_type": "code",
   "execution_count": null,
   "metadata": {},
   "outputs": [
    {
     "data": {
      "text/plain": [
       "(4, 127, 8919)"
      ]
     },
     "execution_count": 429,
     "metadata": {},
     "output_type": "execute_result"
    }
   ],
   "source": [
    "output.shape"
   ]
  },
  {
   "cell_type": "code",
   "execution_count": 7,
   "metadata": {},
   "outputs": [
    {
     "name": "stderr",
     "output_type": "stream",
     "text": [
      "/Users/jonirajalaa/Documents/fun/jonigrad/venv/lib/python3.10/site-packages/tqdm/auto.py:21: TqdmWarning: IProgress not found. Please update jupyter and ipywidgets. See https://ipywidgets.readthedocs.io/en/stable/user_install.html\n",
      "  from .autonotebook import tqdm as notebook_tqdm\n"
     ]
    },
    {
     "name": "stdout",
     "output_type": "stream",
     "text": [
      "15243\n"
     ]
    },
    {
     "name": "stderr",
     "output_type": "stream",
     "text": [
      "  0%|          | 0/2 [00:00<?, ?it/s]"
     ]
    },
    {
     "name": "stdout",
     "output_type": "stream",
     "text": [
      "(16, 127)\n"
     ]
    },
    {
     "name": "stderr",
     "output_type": "stream",
     "text": [
      "  0%|          | 0/2 [00:00<?, ?it/s]"
     ]
    },
    {
     "name": "stdout",
     "output_type": "stream",
     "text": [
      "(16, 127, 512) (16, 57)\n"
     ]
    },
    {
     "name": "stderr",
     "output_type": "stream",
     "text": [
      "\n"
     ]
    },
    {
     "ename": "IndexError",
     "evalue": "index 13388 is out of bounds for axis 0 with size 8919",
     "output_type": "error",
     "traceback": [
      "\u001b[0;31m---------------------------------------------------------------------------\u001b[0m",
      "\u001b[0;31mIndexError\u001b[0m                                Traceback (most recent call last)",
      "Cell \u001b[0;32mIn[7], line 38\u001b[0m\n\u001b[1;32m     36\u001b[0m encoder_output \u001b[38;5;241m=\u001b[39m encoder(Xb)\n\u001b[1;32m     37\u001b[0m \u001b[38;5;28mprint\u001b[39m(encoder_output\u001b[38;5;241m.\u001b[39mshape, Yb\u001b[38;5;241m.\u001b[39mshape)\n\u001b[0;32m---> 38\u001b[0m decoder_output \u001b[38;5;241m=\u001b[39m \u001b[43mdecoder\u001b[49m\u001b[43m(\u001b[49m\u001b[43mYb\u001b[49m\u001b[43m,\u001b[49m\u001b[43m \u001b[49m\u001b[43mencoder_output\u001b[49m\u001b[43m,\u001b[49m\u001b[43m \u001b[49m\u001b[43mencoder_output\u001b[49m\u001b[43m)\u001b[49m\n\u001b[1;32m     40\u001b[0m loss \u001b[38;5;241m=\u001b[39m loss_f(decoder_output, Yb)\n\u001b[1;32m     41\u001b[0m dL_dy \u001b[38;5;241m=\u001b[39m loss_f\u001b[38;5;241m.\u001b[39mbackward()\n",
      "File \u001b[0;32m~/Documents/fun/jonigrad/jonigrad/layers.py:10\u001b[0m, in \u001b[0;36mModule.__call__\u001b[0;34m(self, *inputs)\u001b[0m\n\u001b[1;32m      9\u001b[0m \u001b[38;5;28;01mdef\u001b[39;00m \u001b[38;5;21m__call__\u001b[39m(\u001b[38;5;28mself\u001b[39m, \u001b[38;5;241m*\u001b[39minputs):\n\u001b[0;32m---> 10\u001b[0m     \u001b[38;5;28;01mreturn\u001b[39;00m \u001b[38;5;28;43mself\u001b[39;49m\u001b[38;5;241;43m.\u001b[39;49m\u001b[43mforward\u001b[49m\u001b[43m(\u001b[49m\u001b[38;5;241;43m*\u001b[39;49m\u001b[43minputs\u001b[49m\u001b[43m)\u001b[49m\n",
      "Cell \u001b[0;32mIn[2], line 99\u001b[0m, in \u001b[0;36mTransformerDecoder.forward\u001b[0;34m(self, x, k, v)\u001b[0m\n\u001b[1;32m     96\u001b[0m look_ahead_mask \u001b[38;5;241m=\u001b[39m create_look_ahead_mask(seq_len)\n\u001b[1;32m     97\u001b[0m padding_mask \u001b[38;5;241m=\u001b[39m create_padding_mask(x)\n\u001b[0;32m---> 99\u001b[0m x \u001b[38;5;241m=\u001b[39m \u001b[38;5;28;43mself\u001b[39;49m\u001b[38;5;241;43m.\u001b[39;49m\u001b[43minput_embedding\u001b[49m\u001b[43m(\u001b[49m\u001b[43mx\u001b[49m\u001b[43m)\u001b[49m \u001b[38;5;241m+\u001b[39m \u001b[38;5;28mself\u001b[39m\u001b[38;5;241m.\u001b[39mpositional_embedding(pos)[\u001b[38;5;28;01mNone\u001b[39;00m, :, :]\n\u001b[1;32m    100\u001b[0m x \u001b[38;5;241m=\u001b[39m x\u001b[38;5;241m.\u001b[39mtranspose(\u001b[38;5;241m1\u001b[39m, \u001b[38;5;241m0\u001b[39m, \u001b[38;5;241m2\u001b[39m)  \u001b[38;5;66;03m# (batch_size, seq_len, d_model) -> (seq_len, batch_size, d_model)\u001b[39;00m\n\u001b[1;32m    102\u001b[0m \u001b[38;5;66;03m# Masked multi-head self-attention\u001b[39;00m\n",
      "File \u001b[0;32m~/Documents/fun/jonigrad/jonigrad/layers.py:61\u001b[0m, in \u001b[0;36mLayer.__call__\u001b[0;34m(self, *inputs)\u001b[0m\n\u001b[1;32m     60\u001b[0m \u001b[38;5;28;01mdef\u001b[39;00m \u001b[38;5;21m__call__\u001b[39m(\u001b[38;5;28mself\u001b[39m, \u001b[38;5;241m*\u001b[39minputs):\n\u001b[0;32m---> 61\u001b[0m     \u001b[38;5;28;01mreturn\u001b[39;00m \u001b[38;5;28;43mself\u001b[39;49m\u001b[38;5;241;43m.\u001b[39;49m\u001b[43mforward\u001b[49m\u001b[43m(\u001b[49m\u001b[38;5;241;43m*\u001b[39;49m\u001b[43minputs\u001b[49m\u001b[43m)\u001b[49m\n",
      "File \u001b[0;32m~/Documents/fun/jonigrad/jonigrad/layers.py:1041\u001b[0m, in \u001b[0;36mEmbedding.forward\u001b[0;34m(self, indices)\u001b[0m\n\u001b[1;32m   1039\u001b[0m \u001b[38;5;28;01mdef\u001b[39;00m \u001b[38;5;21mforward\u001b[39m(\u001b[38;5;28mself\u001b[39m, indices):\n\u001b[1;32m   1040\u001b[0m     \u001b[38;5;28mself\u001b[39m\u001b[38;5;241m.\u001b[39mlast_indices \u001b[38;5;241m=\u001b[39m indices\n\u001b[0;32m-> 1041\u001b[0m     \u001b[38;5;28;01mreturn\u001b[39;00m \u001b[38;5;28;43mself\u001b[39;49m\u001b[38;5;241;43m.\u001b[39;49m\u001b[43m_params\u001b[49m\u001b[43m[\u001b[49m\u001b[38;5;124;43m\"\u001b[39;49m\u001b[38;5;124;43mE\u001b[39;49m\u001b[38;5;124;43m\"\u001b[39;49m\u001b[43m]\u001b[49m\u001b[38;5;241;43m.\u001b[39;49m\u001b[43mdata\u001b[49m\u001b[43m[\u001b[49m\u001b[43mindices\u001b[49m\u001b[43m]\u001b[49m\n",
      "\u001b[0;31mIndexError\u001b[0m: index 13388 is out of bounds for axis 0 with size 8919"
     ]
    }
   ],
   "source": [
    "from jonigrad.utils import load_fi_en_translations\n",
    "from tqdm import tqdm\n",
    "\n",
    "g = np.random.default_rng()  # create a random generator\n",
    "\n",
    "D_MODEL = 512\n",
    "NUM_HEADS = 8\n",
    "BATCH_SIZE = 16\n",
    "ITERS = 2\n",
    "LR = 0.001\n",
    "THRESHOLD = 5\n",
    "\n",
    "en_data, en_vocab, fi_data, fi_vocab = load_fi_en_translations(debug=False)\n",
    "\n",
    "\n",
    "INPUT_VOCAB = len(en_vocab)\n",
    "OUTPUT_VOCAB = len(fi_vocab)\n",
    "\n",
    "print(OUTPUT_VOCAB)\n",
    "\n",
    "encoder = TransformerEncoder(INPUT_VOCAB, D_MODEL, NUM_HEADS)\n",
    "decoder = TransformerDecoder(INPUT_VOCAB, D_MODEL, NUM_HEADS)\n",
    "\n",
    "loss_f = CrossEntropyLoss()\n",
    "losses = []\n",
    "\n",
    "encoder.train()\n",
    "decoder.train()\n",
    "for iter in tqdm(range(ITERS)):\n",
    "    ix = g.integers(low=0, high=en_data.shape[0], size=BATCH_SIZE)\n",
    "    Xb, Yb = en_data[ix], fi_data[ix]\n",
    "\n",
    "    encoder.zero_grad()\n",
    "\n",
    "    print(Xb.shape)\n",
    "    encoder_output = encoder(Xb)\n",
    "    print(encoder_output.shape, Yb.shape)\n",
    "    decoder_output = decoder(Yb, encoder_output, encoder_output)\n",
    "\n",
    "    loss = loss_f(decoder_output, Yb)\n",
    "    dL_dy = loss_f.backward()\n",
    "\n",
    "    dL_dy_decoder = dL_dy\n",
    "\n",
    "    dL_dy_decoder, dh, dc = decoder.backward(dL_dy_decoder)\n",
    "    dL_dy_encoder = encoder.backward(dL_dy_decoder, dh, dc)\n",
    "\n",
    "    decoder.clip_grad(THRESHOLD, BATCH_SIZE)\n",
    "    encoder.clip_grad(THRESHOLD, BATCH_SIZE)\n",
    "\n",
    "    encoder.step(LR)\n",
    "    decoder.step(LR)\n",
    "\n",
    "    losses.append(loss.item())"
   ]
  },
  {
   "cell_type": "code",
   "execution_count": null,
   "metadata": {},
   "outputs": [],
   "source": []
  }
 ],
 "metadata": {
  "kernelspec": {
   "display_name": "venv",
   "language": "python",
   "name": "python3"
  },
  "language_info": {
   "codemirror_mode": {
    "name": "ipython",
    "version": 3
   },
   "file_extension": ".py",
   "mimetype": "text/x-python",
   "name": "python",
   "nbconvert_exporter": "python",
   "pygments_lexer": "ipython3",
   "version": "3.10.13"
  }
 },
 "nbformat": 4,
 "nbformat_minor": 2
}
