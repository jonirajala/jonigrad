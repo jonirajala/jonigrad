{
 "cells": [
  {
   "cell_type": "code",
   "execution_count": 10,
   "metadata": {},
   "outputs": [],
   "source": [
    "from datasets import load_dataset\n",
    "\n",
    "dataset = load_dataset(\"EkBass/fin-eng-dataset\")\n",
    "dataset = dataset[\"train\"]"
   ]
  },
  {
   "cell_type": "code",
   "execution_count": 14,
   "metadata": {},
   "outputs": [],
   "source": [
    "\n",
    "finnish_data = []\n",
    "english_data = []\n",
    "for example in dataset:\n",
    "    finnish_data.append(example[\"Finnish\"])\n",
    "    english_data.append(example[\"English\"])"
   ]
  },
  {
   "cell_type": "code",
   "execution_count": 26,
   "metadata": {},
   "outputs": [
    {
     "data": {
      "text/plain": [
       "'Mikäli havaitset palvelussamme epäilyttävän tai asiattoman profiilin tai saat tällaiselta viestejä, pyydämme olemaan yhteydessä asiakaspalveluumme. Jokaiselta profiilisivulta löydät linkin ”Tee ilmoitus profiilista asiakaspalveluun”, jonka kautta ilmoituksen tekeminen on helppoa ja nopeaa. Näin olet mukana parantamassa palvelumme laatua sekä itsellesi että muille käyttäjille.'"
      ]
     },
     "execution_count": 26,
     "metadata": {},
     "output_type": "execute_result"
    }
   ],
   "source": [
    "finnish_data[-1]"
   ]
  },
  {
   "cell_type": "code",
   "execution_count": 27,
   "metadata": {},
   "outputs": [
    {
     "data": {
      "text/plain": [
       "'If you notice a suspicious or inappropriate profile in our service or receive messages from such a profile, please contact our customer service. On each profile page you will find the link \"Report profile to customer service\", which makes reporting easy and fast. In this way, you participate in improving the quality of our service both for yourself and for other users.'"
      ]
     },
     "execution_count": 27,
     "metadata": {},
     "output_type": "execute_result"
    }
   ],
   "source": [
    "english_data[-1]"
   ]
  },
  {
   "cell_type": "code",
   "execution_count": null,
   "metadata": {},
   "outputs": [],
   "source": []
  }
 ],
 "metadata": {
  "kernelspec": {
   "display_name": "venv",
   "language": "python",
   "name": "python3"
  },
  "language_info": {
   "codemirror_mode": {
    "name": "ipython",
    "version": 3
   },
   "file_extension": ".py",
   "mimetype": "text/x-python",
   "name": "python",
   "nbconvert_exporter": "python",
   "pygments_lexer": "ipython3",
   "version": "3.10.13"
  }
 },
 "nbformat": 4,
 "nbformat_minor": 2
}
